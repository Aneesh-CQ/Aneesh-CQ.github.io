{
  "nbformat": 4,
  "nbformat_minor": 0,
  "metadata": {
    "colab": {
      "provenance": [],
      "authorship_tag": "ABX9TyPizWnI7g+ECIWQNiS1bKnk",
      "include_colab_link": true
    },
    "kernelspec": {
      "name": "python3",
      "display_name": "Python 3"
    },
    "language_info": {
      "name": "python"
    }
  },
  "cells": [
    {
      "cell_type": "markdown",
      "metadata": {
        "id": "view-in-github",
        "colab_type": "text"
      },
      "source": [
        "<a href=\"https://colab.research.google.com/github/Aneesh-CQ/Aneesh-CQ.github.io/blob/main/Natural_Language_Processing.ipynb\" target=\"_parent\"><img src=\"https://colab.research.google.com/assets/colab-badge.svg\" alt=\"Open In Colab\"/></a>"
      ]
    },
    {
      "cell_type": "markdown",
      "source": [
        "# NATURAL LANGUAGE PROCESSING: FLIPKART REVIEW SENTIMENT ANALYSIS"
      ],
      "metadata": {
        "id": "d4JnYlmX3aiB"
      }
    },
    {
      "cell_type": "markdown",
      "source": [
        "### Importing Libaraies"
      ],
      "metadata": {
        "id": "cQPSP4Bh2lUL"
      }
    },
    {
      "cell_type": "code",
      "execution_count": null,
      "metadata": {
        "id": "jo15b2YY2LFJ"
      },
      "outputs": [],
      "source": [
        "import warnings\n",
        "warnings.filterwarnings('ignore')\n",
        "import pandas as pd\n",
        "import re\n",
        "import seaborn as sns\n",
        "from sklearn.feature_extraction.text import TfidfVectorizer\n",
        "import matplotlib.pyplot as plt\n",
        "from wordcloud import WordCloud"
      ]
    },
    {
      "cell_type": "markdown",
      "source": [
        "### Using NTK Library for Natural Language Processing"
      ],
      "metadata": {
        "id": "tZ1vXivh3OZm"
      }
    },
    {
      "cell_type": "code",
      "source": [
        "import nltk\n",
        "nltk.download('stopwords')\n",
        "nltk.download('punkt')\n",
        "from nltk.corpus import stopwords\n",
        "from nltk import punkt"
      ],
      "metadata": {
        "id": "VuBKxuHw3JML"
      },
      "execution_count": null,
      "outputs": []
    },
    {
      "cell_type": "markdown",
      "source": [
        "### Loading the Dataset"
      ],
      "metadata": {
        "id": "TVKwTUgd3xbo"
      }
    },
    {
      "cell_type": "code",
      "source": [
        "data = pd.read_csv('flipkart_data.csv')\n",
        "data.head()"
      ],
      "metadata": {
        "id": "dGL5ah4-2-Ek"
      },
      "execution_count": null,
      "outputs": []
    },
    {
      "cell_type": "markdown",
      "source": [
        "### Data Preprocessing and Preliminary analysis\n",
        "\n",
        "\n",
        "\n"
      ],
      "metadata": {
        "id": "Nu52gBSx4YtQ"
      }
    },
    {
      "cell_type": "code",
      "source": [
        "sns.countplot(data=data, x='rating')"
      ],
      "metadata": {
        "id": "PjbA7GDB4YFR"
      },
      "execution_count": null,
      "outputs": []
    },
    {
      "cell_type": "markdown",
      "source": [
        "### Creating a seperate column to classify the reviews as positive or negative based on ratings\n",
        "If rating is less than 5, consider it negative, else, consider it positive"
      ],
      "metadata": {
        "id": "DI50wQ9n6DlD"
      }
    },
    {
      "cell_type": "code",
      "source": [
        "pos_neg = []\n",
        "for i in range (len(data['rating'])):\n",
        "  if data['rating'][i] == 5:\n",
        "    pos_neg.append(1)\n",
        "  else:\n",
        "    pos_neg.append(0)\n",
        "data['classify'] = pos_neg\n",
        "data"
      ],
      "metadata": {
        "id": "Gorj6NdE53rW"
      },
      "execution_count": null,
      "outputs": []
    },
    {
      "cell_type": "code",
      "source": [
        "from tqdm import tqdm\n",
        "\n",
        "\n",
        "def preprocess_text(text_data):\n",
        "\tpreprocessed_text = []\n",
        "\n",
        "\tfor sentence in tqdm(text_data):\n",
        "\t\t# Removing punctuations\n",
        "\t\tsentence = re.sub(r'[^\\w\\s]', '', sentence)\n",
        "\n",
        "\t\t# Converting lowercase and removing stopwords\n",
        "\t\tpreprocessed_text.append(' '.join(token.lower()\n",
        "\t\t\t\t\t\t\t\t\t\tfor token in nltk.word_tokenize(sentence)\n",
        "\t\t\t\t\t\t\t\t\t\tif token.lower() not in stopwords.words('english')))\n",
        "\n",
        "\treturn preprocessed_text\n"
      ],
      "metadata": {
        "id": "t5-ZW5EJLaJD"
      },
      "execution_count": null,
      "outputs": []
    },
    {
      "cell_type": "code",
      "source": [
        "preprocessed_review = preprocess_text(data['review'].values)\n",
        "data['review'] = preprocessed_review\n",
        "data.head()"
      ],
      "metadata": {
        "id": "-JqgaN4KKwwP"
      },
      "execution_count": null,
      "outputs": []
    },
    {
      "cell_type": "markdown",
      "source": [
        "### Creating a Wordcloud for visualization of the frequency of words"
      ],
      "metadata": {
        "id": "4IcC0JrJP2xF"
      }
    },
    {
      "cell_type": "code",
      "source": [
        "consolidated = ' '.join(\n",
        "    word for word in data['review'][data['classify'] == 1].astype(str))\n",
        "wordCloud = WordCloud(width=1600, height=800,\n",
        "                      random_state=21, max_font_size=110)\n",
        "plt.figure(figsize=(15, 10))\n",
        "plt.imshow(wordCloud.generate(consolidated), interpolation='bilinear')\n",
        "plt.axis('off')\n",
        "plt.show()"
      ],
      "metadata": {
        "id": "D5SZ2qJ2O2S4"
      },
      "execution_count": null,
      "outputs": []
    },
    {
      "cell_type": "markdown",
      "source": [
        "### Transforming text data using TF-IDF"
      ],
      "metadata": {
        "id": "Z0SGFbDoRN7u"
      }
    },
    {
      "cell_type": "code",
      "source": [
        "cv = TfidfVectorizer(max_features=2500)\n",
        "X = cv.fit_transform(data['review'] ).toarray()\n",
        "X"
      ],
      "metadata": {
        "id": "-9POKFoBQyAY"
      },
      "execution_count": null,
      "outputs": []
    },
    {
      "cell_type": "markdown",
      "source": [
        "### Model Training, Testing and Evaluation"
      ],
      "metadata": {
        "id": "qF0uSqvXRqML"
      }
    },
    {
      "cell_type": "code",
      "source": [
        "from sklearn.model_selection import train_test_split\n",
        "X_train, X_test, y_train, y_test = train_test_split(X, data['classify'],\n",
        "                                                    test_size=0.25,\n",
        "                                                    stratify=data['classify'])"
      ],
      "metadata": {
        "id": "yRQMUMu4RyG_"
      },
      "execution_count": null,
      "outputs": []
    },
    {
      "cell_type": "code",
      "source": [
        "'''from sklearn.tree import DecisionTreeClassifier\n",
        "from sklearn.metrics import accuracy_score\n",
        "model = DecisionTreeClassifier(random_state=0)\n",
        "model.fit(X_train,y_train)\n",
        "\n",
        "#testing the model\n",
        "pred = model.predict(X_train)\n",
        "print(accuracy_score(y_train,pred))'''"
      ],
      "metadata": {
        "id": "YCcQZZNPSdPz"
      },
      "execution_count": null,
      "outputs": []
    },
    {
      "cell_type": "code",
      "source": [
        "import xgboost as xgb\n",
        "xgb.Classifier().get_params()"
      ],
      "metadata": {
        "id": "j2Axq94uZQyG"
      },
      "execution_count": null,
      "outputs": []
    },
    {
      "cell_type": "code",
      "source": [
        "# we initiate the regression model and train it with our train data\n",
        "xg_clf = xgb.XGBClassifier()\n",
        "# training the model\n",
        "xg_clf.fit(X_train,y_train)"
      ],
      "metadata": {
        "id": "0Gj7DqLmZf82"
      },
      "execution_count": null,
      "outputs": []
    },
    {
      "cell_type": "code",
      "source": [
        "# predicting the outputs\n",
        "xgb_preds = xg_clf.predict(X_test)\n",
        "xgb_preds"
      ],
      "metadata": {
        "id": "thlbpIQKZnPA"
      },
      "execution_count": null,
      "outputs": []
    },
    {
      "cell_type": "code",
      "source": [
        "#testing the model\n",
        "from sklearn.metrics import accuracy_score\n",
        "print(accuracy_score(y_test,xgb_preds))"
      ],
      "metadata": {
        "id": "dzLehyFuZwA2"
      },
      "execution_count": null,
      "outputs": []
    },
    {
      "cell_type": "markdown",
      "source": [],
      "metadata": {
        "id": "HjOtH3oFKv4_"
      }
    }
  ]
}