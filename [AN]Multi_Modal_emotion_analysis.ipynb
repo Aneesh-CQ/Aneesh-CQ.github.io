{
  "cells": [
    {
      "cell_type": "markdown",
      "metadata": {
        "id": "view-in-github",
        "colab_type": "text"
      },
      "source": [
        "<a href=\"https://colab.research.google.com/github/Aneesh-CQ/Aneesh-CQ.github.io/blob/main/%5BAN%5DMulti_Modal_emotion_analysis.ipynb\" target=\"_parent\"><img src=\"https://colab.research.google.com/assets/colab-badge.svg\" alt=\"Open In Colab\"/></a>"
      ]
    },
    {
      "cell_type": "code",
      "execution_count": null,
      "id": "6859610a",
      "metadata": {
        "id": "6859610a"
      },
      "outputs": [],
      "source": [
        "!pip install audformat"
      ]
    },
    {
      "cell_type": "code",
      "execution_count": null,
      "id": "ee0206e2",
      "metadata": {
        "id": "ee0206e2"
      },
      "outputs": [],
      "source": [
        "!pip install opensmile"
      ]
    },
    {
      "cell_type": "code",
      "execution_count": null,
      "id": "b05ad3d1",
      "metadata": {
        "id": "b05ad3d1"
      },
      "outputs": [],
      "source": [
        "!pip install moviepy"
      ]
    },
    {
      "cell_type": "code",
      "execution_count": null,
      "id": "2491cc75",
      "metadata": {
        "scrolled": true,
        "id": "2491cc75"
      },
      "outputs": [],
      "source": [
        "import os\n",
        "from moviepy.editor import VideoFileClip\n",
        "\n",
        "def convert_video_to_audio(video_path, audio_path):\n",
        "    video_clip = VideoFileClip(video_path)\n",
        "    audio_clip = video_clip.audio\n",
        "    audio_clip.write_audiofile(audio_path)\n",
        "\n",
        "def extract_zip(zip_path, extract_folder):\n",
        "    import zipfile\n",
        "\n",
        "    with zipfile.ZipFile(zip_path, 'r') as zip_ref:\n",
        "        zip_ref.extractall(extract_folder)\n",
        "\n",
        "def batch_convert_videos_to_audio(folder_path):\n",
        "    if not os.path.exists(folder_path):\n",
        "        print(f\"Error: The folder or zip file '{folder_path}' does not exist.\")\n",
        "        return\n",
        "\n",
        "    if folder_path.endswith(\".zip\"):\n",
        "        extract_folder = os.path.join(os.path.dirname(folder_path), \"extracted_folder\")\n",
        "        extract_zip(folder_path, extract_folder)\n",
        "        folder_path = extract_folder\n",
        "\n",
        "    for filename in os.listdir(folder_path):\n",
        "        if filename.endswith(\".mp4\") or filename.endswith(\".avi\") or filename.endswith(\".mkv\"):\n",
        "            video_path = os.path.join(folder_path, filename)\n",
        "            audio_path = os.path.join(folder_path, f\"{os.path.splitext(filename)[0]}.wav\")\n",
        "            convert_video_to_audio(video_path, audio_path)\n",
        "            print(f\"Conversion complete: {filename} -> {os.path.splitext(filename)[0]}.wav\")\n",
        "\n",
        "if __name__ == \"__main__\":\n",
        "    path_to_folder_or_zip = r\"C:\\Users\\ANEESH RAGHAV\\Downloads\\Freeform\"\n",
        "    batch_convert_videos_to_audio(path_to_folder_or_zip)\n"
      ]
    },
    {
      "cell_type": "code",
      "execution_count": null,
      "id": "9c8b3da5",
      "metadata": {
        "id": "9c8b3da5"
      },
      "outputs": [],
      "source": [
        "!pip install librosa"
      ]
    },
    {
      "cell_type": "code",
      "execution_count": null,
      "id": "1aa543db",
      "metadata": {
        "id": "1aa543db"
      },
      "outputs": [],
      "source": [
        "import os\n",
        "import librosa\n",
        "import pandas as pd\n",
        "\n",
        "def extract_acoustic_features(audio_path):\n",
        "    y, sr = librosa.load(audio_path)\n",
        "    chroma_stft = librosa.feature.chroma_stft(y=y, sr=sr)\n",
        "    spectral_centroid = librosa.feature.spectral_centroid(y=y, sr=sr)\n",
        "    spectral_bandwidth = librosa.feature.spectral_bandwidth(y=y, sr=sr)\n",
        "    spectral_rolloff = librosa.feature.spectral_rolloff(y=y, sr=sr)\n",
        "    zero_crossing_rate = librosa.feature.zero_crossing_rate(y)\n",
        "\n",
        "    features = {\n",
        "        'chroma_stft_mean': chroma_stft.mean(),\n",
        "        'chroma_stft_var': chroma_stft.var(),\n",
        "        'spectral_centroid_mean': spectral_centroid.mean(),\n",
        "        'spectral_centroid_var': spectral_centroid.var(),\n",
        "        'spectral_bandwidth_mean': spectral_bandwidth.mean(),\n",
        "        'spectral_bandwidth_var': spectral_bandwidth.var(),\n",
        "        'spectral_rolloff_mean': spectral_rolloff.mean(),\n",
        "        'spectral_rolloff_var': spectral_rolloff.var(),\n",
        "        'zero_crossing_rate_mean': zero_crossing_rate.mean(),\n",
        "        'zero_crossing_rate_var': zero_crossing_rate.var(),\n",
        "    }\n",
        "\n",
        "    return features\n",
        "\n",
        "def process_audio_folder(folder_path):\n",
        "    audio_features_list = []\n",
        "\n",
        "    for filename in os.listdir(folder_path):\n",
        "        if filename.endswith(\".wav\"):\n",
        "            audio_path = os.path.join(folder_path, filename)\n",
        "            features = extract_acoustic_features(audio_path)\n",
        "            features['filename'] = filename\n",
        "            audio_features_list.append(features)\n",
        "\n",
        "    return audio_features_list\n",
        "\n",
        "if __name__ == \"__main__\":\n",
        "    audio_folder_path = r\"C:\\Users\\ANEESH RAGHAV\\Downloads\\Freeform_audio\"\n",
        "    audio_features = process_audio_folder(audio_folder_path)\n",
        "    df = pd.DataFrame(audio_features)"
      ]
    },
    {
      "cell_type": "code",
      "execution_count": null,
      "id": "c73a9dc9",
      "metadata": {
        "id": "c73a9dc9"
      },
      "outputs": [],
      "source": [
        "df.head(10)"
      ]
    },
    {
      "cell_type": "code",
      "execution_count": null,
      "id": "ae8ae943",
      "metadata": {
        "id": "ae8ae943"
      },
      "outputs": [],
      "source": [
        "df.tail(10)"
      ]
    },
    {
      "cell_type": "code",
      "execution_count": null,
      "id": "3487571c",
      "metadata": {
        "id": "3487571c"
      },
      "outputs": [],
      "source": [
        "def classify_value(value):\n",
        "    if 0 <= value <= 13:\n",
        "        return 0\n",
        "    elif 14 <= value <= 19:\n",
        "        return 1\n",
        "    elif 20 <= value <= 28:\n",
        "        return 2\n",
        "    elif 29 <= value <= 63:\n",
        "        return 3\n",
        "    else:\n",
        "        return None\n",
        "\n",
        "def read_and_classify_csv(csv_file):\n",
        "    try:\n",
        "        with open(csv_file, 'r') as file:\n",
        "            value = int(file.read().strip())\n",
        "            category = classify_value(value)\n",
        "            return category\n",
        "    except (ValueError, FileNotFoundError) as e:\n",
        "        print(f\"Error reading {csv_file}: {e}\")\n",
        "        return None\n",
        "\n",
        "def classify_values_in_folder(folder_path):\n",
        "    classifications = []\n",
        "\n",
        "    for filename in os.listdir(folder_path):\n",
        "        if filename.endswith(\".csv\"):\n",
        "            csv_file = os.path.join(folder_path, filename)\n",
        "            category = read_and_classify_csv(csv_file)\n",
        "            if category is not None:\n",
        "                classifications.append((filename, category))\n",
        "\n",
        "    return classifications\n",
        "\n",
        "if __name__ == \"__main__\":\n",
        "    folder_path = r\"C:\\Users\\ANEESH RAGHAV\\Downloads\\Training_DepressionLabels\\Training_DepressionLabels\"\n",
        "    classifications = classify_values_in_folder(folder_path)\n",
        "    for filename, category in classifications:\n",
        "        print(f\"{filename}: Class {category}\")\n"
      ]
    },
    {
      "cell_type": "code",
      "execution_count": null,
      "id": "aacf6f16",
      "metadata": {
        "id": "aacf6f16"
      },
      "outputs": [],
      "source": [
        "i = 0;\n",
        "Depression_Class_train = [0]*50\n",
        "for filename, category in classifications:\n",
        "    Depression_Class_train[i] = category\n",
        "    i = i + 1"
      ]
    },
    {
      "cell_type": "code",
      "execution_count": null,
      "id": "3c5ac8cc",
      "metadata": {
        "id": "3c5ac8cc"
      },
      "outputs": [],
      "source": [
        "if __name__ == \"__main__\":\n",
        "    path_to_folder_or_zip = r\"C:\\Users\\ANEESH RAGHAV\\Downloads\\Testing\\Testing\"\n",
        "    batch_convert_videos_to_audio(path_to_folder_or_zip)\n"
      ]
    },
    {
      "cell_type": "code",
      "execution_count": null,
      "id": "18bb2120",
      "metadata": {
        "id": "18bb2120"
      },
      "outputs": [],
      "source": [
        "if __name__ == \"__main__\":\n",
        "    audio_folder_path_test = r\"C:\\Users\\ANEESH RAGHAV\\Downloads\\Testing\\Audio_testing\"\n",
        "    audio_features_test = process_audio_folder(audio_folder_path_test)\n",
        "    df_test = pd.DataFrame(audio_features_test)"
      ]
    },
    {
      "cell_type": "code",
      "execution_count": null,
      "id": "d6211396",
      "metadata": {
        "id": "d6211396"
      },
      "outputs": [],
      "source": [
        "df_test"
      ]
    },
    {
      "cell_type": "code",
      "execution_count": null,
      "id": "0df8ed03",
      "metadata": {
        "id": "0df8ed03"
      },
      "outputs": [],
      "source": [
        "df = df.drop('filename', axis=1)"
      ]
    },
    {
      "cell_type": "code",
      "execution_count": null,
      "id": "437369e4",
      "metadata": {
        "id": "437369e4"
      },
      "outputs": [],
      "source": [
        "df"
      ]
    },
    {
      "cell_type": "code",
      "execution_count": null,
      "id": "3d4716cb",
      "metadata": {
        "scrolled": true,
        "id": "3d4716cb"
      },
      "outputs": [],
      "source": [
        "df_test"
      ]
    },
    {
      "cell_type": "code",
      "execution_count": null,
      "id": "6480eb1d",
      "metadata": {
        "id": "6480eb1d"
      },
      "outputs": [],
      "source": [
        "df_test = df_test.drop('filename', axis=1)"
      ]
    },
    {
      "cell_type": "code",
      "execution_count": null,
      "id": "f82fddbc",
      "metadata": {
        "id": "f82fddbc"
      },
      "outputs": [],
      "source": [
        " df_test"
      ]
    },
    {
      "cell_type": "code",
      "execution_count": null,
      "id": "fec5eb08",
      "metadata": {
        "id": "fec5eb08"
      },
      "outputs": [],
      "source": [
        "if __name__ == \"__main__\":\n",
        "    folder_path = r\"C:\\Users\\ANEESH RAGHAV\\Downloads\\DepressionLabels\\DepressionLabels\"\n",
        "    classifications_test = classify_values_in_folder(folder_path)"
      ]
    },
    {
      "cell_type": "code",
      "execution_count": null,
      "id": "051013ea",
      "metadata": {
        "id": "051013ea"
      },
      "outputs": [],
      "source": [
        "i = 0;\n",
        "Depression_Class_test = [0]*50\n",
        "for filename, category in classifications_test:\n",
        "    Depression_Class_test[i] = category\n",
        "    i = i + 1"
      ]
    },
    {
      "cell_type": "code",
      "execution_count": null,
      "id": "96361607",
      "metadata": {
        "id": "96361607"
      },
      "outputs": [],
      "source": [
        "!pip install xgboost"
      ]
    },
    {
      "cell_type": "code",
      "execution_count": null,
      "id": "1f2fb0b2",
      "metadata": {
        "id": "1f2fb0b2"
      },
      "outputs": [],
      "source": [
        "import xgboost\n",
        "from xgboost import XGBClassifier\n",
        "XGBClassifier().get_params()"
      ]
    },
    {
      "cell_type": "code",
      "execution_count": null,
      "id": "cda3ed5b",
      "metadata": {
        "id": "cda3ed5b"
      },
      "outputs": [],
      "source": [
        "model = XGBClassifier(use_label_encoder=True, eval_metric='mlogloss')\n",
        "model.fit(df, Depression_Class_train)"
      ]
    },
    {
      "cell_type": "code",
      "execution_count": null,
      "id": "58141e88",
      "metadata": {
        "id": "58141e88"
      },
      "outputs": [],
      "source": [
        "y_pred = model.predict(df_test)"
      ]
    },
    {
      "cell_type": "code",
      "execution_count": null,
      "id": "5a6c3a82",
      "metadata": {
        "id": "5a6c3a82"
      },
      "outputs": [],
      "source": [
        "from sklearn.metrics import accuracy_score"
      ]
    },
    {
      "cell_type": "code",
      "execution_count": null,
      "id": "e84c5d3a",
      "metadata": {
        "id": "e84c5d3a"
      },
      "outputs": [],
      "source": [
        "accuracy = accuracy_score(Depression_Class_test, y_pred)\n",
        "accuracy"
      ]
    },
    {
      "cell_type": "code",
      "execution_count": null,
      "id": "443facbf",
      "metadata": {
        "id": "443facbf"
      },
      "outputs": [],
      "source": [
        "!pip install speechrecognition"
      ]
    },
    {
      "cell_type": "code",
      "execution_count": null,
      "id": "dd122176",
      "metadata": {
        "id": "dd122176"
      },
      "outputs": [],
      "source": [
        "import speech_recognition as sr\n",
        "\n",
        "def audio_to_text(audio_file):\n",
        "    recognizer = sr.Recognizer()\n",
        "    with sr.AudioFile(audio_file) as source:\n",
        "        audio_data = recognizer.record(source)\n",
        "        try:\n",
        "            text = recognizer.recognize_google(audio_data)\n",
        "            return text\n",
        "        except sr.UnknownValueError:\n",
        "            return \"Speech Recognition could not understand audio\"\n",
        "        except sr.RequestError as e:\n",
        "            return f\"Could not request results from Google Speech Recognition service; {e}\"\n",
        "\n",
        "\n",
        "def process_audio_folder_and_append(df, folder_path):\n",
        "    transcriptions = []\n",
        "    for file_name in os.listdir(folder_path):\n",
        "        if file_name.endswith('.wav'):\n",
        "            audio_file_path = os.path.join(folder_path, file_name)\n",
        "            transcription = audio_to_text(audio_file_path)\n",
        "            transcriptions.append(transcription)\n",
        "            print(f\"Processed {file_name}\")\n",
        "    df['Transcription'] = transcriptions\n",
        "    return df\n",
        "\n",
        "\n",
        "folder_path = r\"C:\\Users\\ANEESH RAGHAV\\Downloads\\Freeform_audio\"\n",
        "\n",
        "df = process_audio_folder_and_append(df, folder_path)"
      ]
    },
    {
      "cell_type": "code",
      "execution_count": null,
      "id": "8ad0cea5",
      "metadata": {
        "id": "8ad0cea5"
      },
      "outputs": [],
      "source": [
        "df"
      ]
    },
    {
      "cell_type": "code",
      "execution_count": null,
      "id": "77e1e822",
      "metadata": {
        "scrolled": true,
        "id": "77e1e822"
      },
      "outputs": [],
      "source": [
        "df = df.drop('Transcription', axis=1)\n",
        "df"
      ]
    },
    {
      "cell_type": "code",
      "execution_count": null,
      "id": "1f904c00",
      "metadata": {
        "id": "1f904c00"
      },
      "outputs": [],
      "source": [
        "!pip install opencv-python"
      ]
    },
    {
      "cell_type": "code",
      "execution_count": null,
      "id": "9fdbf160",
      "metadata": {
        "id": "9fdbf160"
      },
      "outputs": [],
      "source": [
        "!pip install deepface"
      ]
    },
    {
      "cell_type": "code",
      "execution_count": null,
      "id": "06ea9367",
      "metadata": {
        "id": "06ea9367"
      },
      "outputs": [],
      "source": [
        "import cv2\n",
        "import matplotlib.pyplot as plt\n",
        "from deepface import DeepFace\n",
        "\n",
        "def extract_facial_expressions(frame):\n",
        "    try:\n",
        "        predictions = DeepFace.analyze(frame, actions=['emotion'])\n",
        "        #print(predictions)\n",
        "        expressions = predictions[0][\"emotion\"]['happy']\n",
        "        #print(expressions)\n",
        "        return expressions\n",
        "    except Exception as e:\n",
        "        print(f\"Error occurred: {e}\")\n",
        "        return None\n",
        "\n",
        "def process_video_folder_and_add_expressions(df, folder_path):\n",
        "    emotions = []\n",
        "    for file_name in os.listdir(folder_path):\n",
        "        if file_name.endswith('.mp4'):\n",
        "            video_path = os.path.join(folder_path, file_name)\n",
        "            capture = cv2.VideoCapture(video_path)\n",
        "            success, frame = capture.read()\n",
        "            if success:\n",
        "                #plt.imshow(frame)\n",
        "                #plt.show()\n",
        "                facial_expression = extract_facial_expressions(frame)\n",
        "                emotions.append(facial_expression)\n",
        "                print(f\"Processed {file_name}\")\n",
        "            else:\n",
        "                print(f\"Failed to read {file_name}\")\n",
        "            capture.release()\n",
        "    df['Emotion'] = emotions\n",
        "    return df\n",
        "\n",
        "folder_path = r\"C:\\Users\\ANEESH RAGHAV\\Downloads\\Freeform\"\n",
        "\n",
        "process_video_folder_and_add_expressions(df, folder_path)"
      ]
    },
    {
      "cell_type": "code",
      "execution_count": null,
      "id": "768cc332",
      "metadata": {
        "id": "768cc332"
      },
      "outputs": [],
      "source": [
        "from sklearn import preprocessing\n",
        "\n",
        "x = df.values\n",
        "scaler = preprocessing.StandardScaler()\n",
        "x_scaled = scaler.fit_transform(x)\n",
        "df = pd.DataFrame(x_scaled, columns = df.columns, index = df.index)"
      ]
    },
    {
      "cell_type": "code",
      "execution_count": null,
      "id": "f0aa8257",
      "metadata": {
        "id": "f0aa8257"
      },
      "outputs": [],
      "source": [
        "df = df.fillna(df.median(numeric_only=True))"
      ]
    },
    {
      "cell_type": "code",
      "execution_count": null,
      "id": "5334e7d9",
      "metadata": {
        "id": "5334e7d9"
      },
      "outputs": [],
      "source": [
        "df"
      ]
    },
    {
      "cell_type": "code",
      "execution_count": null,
      "id": "c794c7df",
      "metadata": {
        "id": "c794c7df"
      },
      "outputs": [],
      "source": [
        "folder_path = r\"C:\\Users\\ANEESH RAGHAV\\Downloads\\Testing\\Testing\"\n",
        "\n",
        "process_video_folder_and_add_expressions(df_test, folder_path)"
      ]
    },
    {
      "cell_type": "code",
      "execution_count": null,
      "id": "69339b3e",
      "metadata": {
        "id": "69339b3e"
      },
      "outputs": [],
      "source": [
        "df_test = df_test.fillna(df_test.median(numeric_only=True))"
      ]
    },
    {
      "cell_type": "code",
      "execution_count": null,
      "id": "66710717",
      "metadata": {
        "id": "66710717"
      },
      "outputs": [],
      "source": [
        "x = df_test.values\n",
        "scaler = preprocessing.StandardScaler()\n",
        "x_scaled = scaler.fit_transform(x)\n",
        "df_test = pd.DataFrame(x_scaled, columns = df_test.columns, index = df_test.index)"
      ]
    },
    {
      "cell_type": "code",
      "execution_count": null,
      "id": "fb00a169",
      "metadata": {
        "id": "fb00a169"
      },
      "outputs": [],
      "source": [
        "df_test"
      ]
    },
    {
      "cell_type": "code",
      "execution_count": null,
      "id": "226bfcaa",
      "metadata": {
        "id": "226bfcaa"
      },
      "outputs": [],
      "source": [
        "import xgboost\n",
        "from xgboost import XGBClassifier\n",
        "XGBClassifier().get_params()"
      ]
    },
    {
      "cell_type": "code",
      "execution_count": null,
      "id": "01019c5f",
      "metadata": {
        "id": "01019c5f"
      },
      "outputs": [],
      "source": [
        "model = XGBClassifier(use_label_encoder=True, eval_metric='mlogloss')\n",
        "model.fit(df, Depression_Class_train)"
      ]
    },
    {
      "cell_type": "code",
      "execution_count": null,
      "id": "c09d430d",
      "metadata": {
        "id": "c09d430d"
      },
      "outputs": [],
      "source": [
        "y_pred = model.predict(df_test)"
      ]
    }
  ],
  "metadata": {
    "kernelspec": {
      "display_name": "Python 3 (ipykernel)",
      "language": "python",
      "name": "python3"
    },
    "language_info": {
      "codemirror_mode": {
        "name": "ipython",
        "version": 3
      },
      "file_extension": ".py",
      "mimetype": "text/x-python",
      "name": "python",
      "nbconvert_exporter": "python",
      "pygments_lexer": "ipython3",
      "version": "3.10.9"
    },
    "colab": {
      "provenance": [],
      "include_colab_link": true
    }
  },
  "nbformat": 4,
  "nbformat_minor": 5
}