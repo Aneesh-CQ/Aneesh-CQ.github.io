{
  "metadata": {
    "kernelspec": {
      "name": "python3",
      "display_name": "Python 3",
      "language": "python"
    },
    "language_info": {
      "name": "python",
      "version": "3.10.12",
      "mimetype": "text/x-python",
      "codemirror_mode": {
        "name": "ipython",
        "version": 3
      },
      "pygments_lexer": "ipython3",
      "nbconvert_exporter": "python",
      "file_extension": ".py"
    },
    "papermill": {
      "default_parameters": {},
      "duration": 11.559803,
      "end_time": "2022-11-02T04:36:37.23376",
      "environment_variables": {},
      "exception": null,
      "input_path": "__notebook__.ipynb",
      "output_path": "__notebook__.ipynb",
      "parameters": {},
      "start_time": "2022-11-02T04:36:25.673957",
      "version": "2.3.3"
    },
    "editor": "DataCamp Workspace",
    "kaggle": {
      "accelerator": "none",
      "dataSources": [
        {
          "sourceId": 7196984,
          "sourceType": "datasetVersion",
          "datasetId": 4162368
        }
      ],
      "dockerImageVersionId": 30626,
      "isInternetEnabled": false,
      "language": "python",
      "sourceType": "notebook",
      "isGpuEnabled": false
    },
    "colab": {
      "provenance": [],
      "include_colab_link": true
    }
  },
  "nbformat_minor": 0,
  "nbformat": 4,
  "cells": [
    {
      "cell_type": "markdown",
      "metadata": {
        "id": "view-in-github",
        "colab_type": "text"
      },
      "source": [
        "<a href=\"https://colab.research.google.com/github/Aneesh-CQ/Aneesh-CQ.github.io/blob/main/Stock_Market_Pred.ipynb\" target=\"_parent\"><img src=\"https://colab.research.google.com/assets/colab-badge.svg\" alt=\"Open In Colab\"/></a>"
      ]
    },
    {
      "cell_type": "markdown",
      "source": [
        "# Stock Market Predictions using LSTM"
      ],
      "metadata": {
        "id": "Cb0JgMMhEXdM"
      }
    },
    {
      "cell_type": "code",
      "source": [
        "!pip install yfinance --target=/kaggle/working/mysitepackages\n",
        "\n",
        "# add to system path\n",
        "import sys\n",
        "sys.path.append('/kaggle/working/mysitepackages')"
      ],
      "metadata": {
        "executionCancelledAt": null,
        "executionTime": 5325,
        "lastExecutedAt": 1702390694413,
        "lastScheduledRunId": null,
        "lastSuccessfullyExecutedCode": "!pip install -q yfinance",
        "execution": {
          "iopub.status.busy": "2023-12-14T04:03:43.18893Z",
          "iopub.execute_input": "2023-12-14T04:03:43.189483Z",
          "iopub.status.idle": "2023-12-14T04:04:12.582809Z",
          "shell.execute_reply.started": "2023-12-14T04:03:43.189428Z",
          "shell.execute_reply": "2023-12-14T04:04:12.58108Z"
        },
        "trusted": true,
        "id": "plSc25kaEXdf"
      },
      "execution_count": null,
      "outputs": []
    },
    {
      "cell_type": "code",
      "source": [
        "# Import and setup\n",
        "import pandas as pd\n",
        "import numpy as np\n",
        "\n",
        "import matplotlib.pyplot as plt\n",
        "import seaborn as sns\n",
        "sns.set_style('whitegrid')\n",
        "plt.style.use(\"fivethirtyeight\")\n",
        "%matplotlib inline\n",
        "\n",
        "# Yahoo finance reading setup\n",
        "from pandas_datareader.data import DataReader\n",
        "import yfinance as yf\n",
        "from pandas_datareader import data as pdr\n",
        "\n",
        "yf.pdr_override()\n",
        "\n",
        "# Time stamps setup\n",
        "from datetime import datetime\n",
        "\n",
        "# Import and setup the stocks\n",
        "tech_list = [\"AAPL\", \"GOOG\", \"MSFT\", \"AMZN\"]\n",
        "\n",
        "# Setup the End and Start times for the data we download\n",
        "end = datetime.now()\n",
        "start = datetime(end.year - 1, end.month, end.day) # 1 Year back from today\n",
        "\n",
        "for stock in tech_list:\n",
        "    globals()[stock] = yf.download(stock, start, end) # Using globals() here is sloppy as hell but it's simply and it works so idrc-\n",
        "\n",
        "company_list = [AAPL, GOOG, MSFT, AMZN]\n",
        "company_name = [\"APPLE\", \"GOOGLE\", \"MICROSOFT\", \"AMAZON\"]\n",
        "\n",
        "for company, com_name in zip(company_list, company_name):\n",
        "    company[\"company_name\"] = com_name\n",
        "\n",
        "df = pd.concat(company_list, axis = 0)\n",
        "df.tail(10)\n"
      ],
      "metadata": {
        "executionCancelledAt": null,
        "executionTime": 3686,
        "lastExecutedAt": 1702390698100,
        "lastScheduledRunId": null,
        "lastSuccessfullyExecutedCode": "# Import and setup\nimport pandas as pd\nimport numpy as np\n\nimport matplotlib.pyplot as plt\nimport seaborn as sns\nsns.set_style('whitegrid')\nplt.style.use(\"fivethirtyeight\")\n%matplotlib inline\n\n# Yahoo finance reading setup\nfrom pandas_datareader.data import DataReader\nimport yfinance as yf\nfrom pandas_datareader import data as pdr\n\nyf.pdr_override()\n\n# Time stamps setup\nfrom datetime import datetime\n\n# Import and setup the stocks\ntech_list = [\"AAPL\", \"GOOG\", \"MSFT\", \"AMZN\"]\n\n# Setup the End and Start times for the data we download\nend = datetime.now()\nstart = datetime(end.year - 1, end.month, end.day) # 1 Year back from today\n\nfor stock in tech_list:\n    globals()[stock] = yf.download(stock, start, end) # Using globals() here is sloppy as hell but it's simply and it works so idrc-\n\ncompany_list = [AAPL, GOOG, MSFT, AMZN]\ncompany_name = [\"APPLE\", \"GOOGLE\", \"MICROSOFT\", \"AMAZON\"]\n\nfor company, com_name in zip(company_list, company_name):\n    company[\"company_name\"] = com_name\n\ndf = pd.concat(company_list, axis = 0)\ndf.tail(10)\n",
        "outputsMetadata": {
          "0": {
            "height": 97,
            "type": "stream"
          },
          "1": {
            "height": 323,
            "type": "dataFrame"
          }
        },
        "visualizeDataframe": false,
        "chartConfig": {
          "bar": {
            "hasRoundedCorners": true,
            "stacked": false
          },
          "type": "bar",
          "version": "v1",
          "x": {
            "field": "Date",
            "type": "datetime"
          },
          "y": {
            "field": "High",
            "type": "number"
          }
        },
        "execution": {
          "iopub.status.busy": "2023-12-14T04:04:12.586419Z",
          "iopub.execute_input": "2023-12-14T04:04:12.58698Z",
          "iopub.status.idle": "2023-12-14T04:04:13.014739Z",
          "shell.execute_reply.started": "2023-12-14T04:04:12.58693Z",
          "shell.execute_reply": "2023-12-14T04:04:13.013434Z"
        },
        "trusted": true,
        "id": "F1FBr0TxEXdj"
      },
      "execution_count": null,
      "outputs": []
    },
    {
      "cell_type": "code",
      "source": [
        "AMZN.describe()"
      ],
      "metadata": {
        "executionCancelledAt": null,
        "executionTime": 55,
        "lastExecutedAt": 1702390698156,
        "lastScheduledRunId": null,
        "lastSuccessfullyExecutedCode": "AAPL.describe()",
        "outputsMetadata": {
          "0": {
            "height": 273,
            "type": "dataFrame"
          }
        },
        "execution": {
          "iopub.status.busy": "2023-12-14T04:04:13.016502Z",
          "iopub.execute_input": "2023-12-14T04:04:13.016965Z",
          "iopub.status.idle": "2023-12-14T04:04:13.054596Z",
          "shell.execute_reply.started": "2023-12-14T04:04:13.01692Z",
          "shell.execute_reply": "2023-12-14T04:04:13.053453Z"
        },
        "trusted": true,
        "id": "4I3rdAoBEXdo"
      },
      "execution_count": null,
      "outputs": []
    },
    {
      "cell_type": "code",
      "source": [
        "AMZN.info()"
      ],
      "metadata": {
        "executionCancelledAt": null,
        "executionTime": 56,
        "lastExecutedAt": 1702390698212,
        "lastScheduledRunId": null,
        "lastSuccessfullyExecutedCode": "AAPL.info()",
        "outputsMetadata": {
          "0": {
            "height": 297,
            "type": "stream"
          }
        },
        "execution": {
          "iopub.status.busy": "2023-12-14T04:04:13.057507Z",
          "iopub.execute_input": "2023-12-14T04:04:13.057863Z",
          "iopub.status.idle": "2023-12-14T04:04:13.073339Z",
          "shell.execute_reply.started": "2023-12-14T04:04:13.057831Z",
          "shell.execute_reply": "2023-12-14T04:04:13.07194Z"
        },
        "trusted": true,
        "id": "I0Vd5N_PEXdr"
      },
      "execution_count": null,
      "outputs": []
    },
    {
      "cell_type": "code",
      "source": [
        "# Plot setup\n",
        "plt.figure(figsize = (15,10))\n",
        "plt.subplots_adjust(top = 1.25, bottom = 1.2)\n",
        "\n",
        "# Placing data\n",
        "for i, company in enumerate(company_list, 1):\n",
        "    plt.subplot(2, 2, i)\n",
        "    company['Adj Close'].plot()\n",
        "    plt.ylabel('Adj Close')\n",
        "    plt.xlabel(None)\n",
        "    plt.title(f\"Closing Price of {tech_list[i-1]}\")\n",
        "\n",
        "plt.tight_layout()"
      ],
      "metadata": {
        "papermill": {
          "duration": 0.342144,
          "end_time": "2022-11-02T04:36:34.923325",
          "exception": false,
          "start_time": "2022-11-02T04:36:34.581181",
          "status": "completed"
        },
        "tags": [],
        "executionCancelledAt": null,
        "executionTime": 1399,
        "lastExecutedAt": 1702390699669,
        "lastScheduledRunId": null,
        "lastSuccessfullyExecutedCode": "# Plot setup\nplt.figure(figsize = (15,10))\nplt.subplots_adjust(top = 1.25, bottom = 1.2)\n\n# Placing data\nfor i, company in enumerate(company_list, 1):\n    plt.subplot(2, 2, i)\n    company['Adj Close'].plot()\n    plt.ylabel('Adj Close')\n    plt.xlabel(None)\n    plt.title(f\"Closing Price of {tech_list[i-1]}\")\n    \nplt.tight_layout()",
        "execution": {
          "iopub.status.busy": "2023-12-14T04:04:13.07542Z",
          "iopub.execute_input": "2023-12-14T04:04:13.075916Z",
          "iopub.status.idle": "2023-12-14T04:04:16.082152Z",
          "shell.execute_reply.started": "2023-12-14T04:04:13.075879Z",
          "shell.execute_reply": "2023-12-14T04:04:16.080468Z"
        },
        "trusted": true,
        "id": "hGLcv8IVEXdt"
      },
      "execution_count": null,
      "outputs": []
    },
    {
      "cell_type": "code",
      "source": [
        "# Plot setup\n",
        "plt.figure(figsize = (15, 10))\n",
        "plt.subplots_adjust(top = 1.25, bottom = 1.2)\n",
        "\n",
        "# Placing data\n",
        "for i, company in enumerate(company_list, 1):\n",
        "    plt.subplot(2, 2, i)\n",
        "    company['Volume'].plot()\n",
        "    plt.ylabel('Volume')\n",
        "    plt.xlabel(None)\n",
        "    plt.title(f\"Sales Volume for {tech_list[i-1]}\")\n",
        "\n",
        "plt.tight_layout()"
      ],
      "metadata": {
        "executionCancelledAt": null,
        "executionTime": 1310,
        "lastExecutedAt": 1702390700979,
        "lastScheduledRunId": null,
        "lastSuccessfullyExecutedCode": "# Plot setup\nplt.figure(figsize = (15, 10))\nplt.subplots_adjust(top = 1.25, bottom = 1.2)\n\n# Placing data\nfor i, company in enumerate(company_list, 1):\n    plt.subplot(2, 2, i)\n    company['Volume'].plot()\n    plt.ylabel('Volume')\n    plt.xlabel(None)\n    plt.title(f\"Sales Volume for {tech_list[i-1]}\")\n    \nplt.tight_layout()",
        "execution": {
          "iopub.status.busy": "2023-12-14T04:04:16.084072Z",
          "iopub.execute_input": "2023-12-14T04:04:16.084651Z",
          "iopub.status.idle": "2023-12-14T04:04:19.157931Z",
          "shell.execute_reply.started": "2023-12-14T04:04:16.084606Z",
          "shell.execute_reply": "2023-12-14T04:04:19.156577Z"
        },
        "trusted": true,
        "id": "dyjbdXAnEXdv"
      },
      "execution_count": null,
      "outputs": []
    },
    {
      "cell_type": "code",
      "source": [
        "ma_day = [10, 20, 50]\n",
        "\n",
        "# Setting data\n",
        "for ma in ma_day:\n",
        "    for company in company_list:\n",
        "        column_name = f\"MA for {ma} days\"\n",
        "        company[column_name] = company[\"Adj Close\"].rolling(ma).mean()\n",
        "\n",
        "\n",
        "# Plotting Data\n",
        "fig, axes = plt.subplots(nrows = 2, ncols = 2)\n",
        "fig.set_figheight(10)\n",
        "fig.set_figwidth(15)\n",
        "\n",
        "AAPL[['Adj Close', 'MA for 10 days', 'MA for 20 days', 'MA for 50 days']].plot(ax=axes[0,0])\n",
        "axes[0,0].set_title('APPLE')\n",
        "\n",
        "GOOG[['Adj Close', 'MA for 10 days', 'MA for 20 days', 'MA for 50 days']].plot(ax=axes[0,1])\n",
        "axes[0,1].set_title('GOOGLE')\n",
        "\n",
        "MSFT[['Adj Close', 'MA for 10 days', 'MA for 20 days', 'MA for 50 days']].plot(ax=axes[1,0])\n",
        "axes[1,0].set_title('MICROSOFT')\n",
        "\n",
        "AMZN[['Adj Close', 'MA for 10 days', 'MA for 20 days', 'MA for 50 days']].plot(ax=axes[1,1])\n",
        "axes[1,1].set_title('AMAZON')\n",
        "\n",
        "fig.tight_layout()"
      ],
      "metadata": {
        "executionCancelledAt": null,
        "executionTime": 1441,
        "lastExecutedAt": 1702390702420,
        "lastScheduledRunId": null,
        "lastSuccessfullyExecutedCode": "ma_day = [10, 20, 50]\n\n# Setting data\nfor ma in ma_day:\n    for company in company_list:\n        column_name = f\"MA for {ma} days\"\n        company[column_name] = company[\"Adj Close\"].rolling(ma).mean()\n        \n\n# Plotting Data\nfig, axes = plt.subplots(nrows = 2, ncols = 2)\nfig.set_figheight(10)\nfig.set_figwidth(15)\n\nAAPL[['Adj Close', 'MA for 10 days', 'MA for 20 days', 'MA for 50 days']].plot(ax=axes[0,0])\naxes[0,0].set_title('APPLE')\n\nGOOG[['Adj Close', 'MA for 10 days', 'MA for 20 days', 'MA for 50 days']].plot(ax=axes[0,1])\naxes[0,1].set_title('GOOGLE')\n\nMSFT[['Adj Close', 'MA for 10 days', 'MA for 20 days', 'MA for 50 days']].plot(ax=axes[1,0])\naxes[1,0].set_title('MICROSOFT')\n\nAMZN[['Adj Close', 'MA for 10 days', 'MA for 20 days', 'MA for 50 days']].plot(ax=axes[1,1])\naxes[1,1].set_title('AMAZON')\n\nfig.tight_layout()",
        "execution": {
          "iopub.status.busy": "2023-12-14T04:04:19.159618Z",
          "iopub.execute_input": "2023-12-14T04:04:19.160831Z",
          "iopub.status.idle": "2023-12-14T04:04:22.438639Z",
          "shell.execute_reply.started": "2023-12-14T04:04:19.160776Z",
          "shell.execute_reply": "2023-12-14T04:04:22.437452Z"
        },
        "trusted": true,
        "id": "IMh7OuXNEXdx"
      },
      "execution_count": null,
      "outputs": []
    },
    {
      "cell_type": "code",
      "source": [
        "# Let's use pct_change to find the percent change\n",
        "for company in company_list:\n",
        "    company['Daily Return'] = company['Adj Close'].pct_change()\n",
        "\n",
        "# Plot the daily return %\n",
        "fig, axes = plt.subplots(nrows = 2, ncols = 2)\n",
        "fig.set_figheight(10)\n",
        "fig.set_figwidth(15)\n",
        "\n",
        "AAPL['Daily Return'].plot(ax = axes[0, 0], legend = True, linestyle = '--', marker = 'o')\n",
        "axes[0, 0].set_title('APPLE')\n",
        "\n",
        "GOOG['Daily Return'].plot(ax = axes[0, 1], legend = True, linestyle = '--', marker = 'o')\n",
        "axes[0, 0].set_title('GOOGLE')\n",
        "\n",
        "MSFT['Daily Return'].plot(ax = axes[1, 0], legend = True, linestyle = '--', marker = 'o')\n",
        "axes[0, 0].set_title('MICROSOFT')\n",
        "\n",
        "AMZN['Daily Return'].plot(ax = axes[1, 1], legend = True, linestyle = '--', marker = 'o')\n",
        "axes[0, 0].set_title('AMAZON')\n",
        "\n",
        "fig.tight_layout()"
      ],
      "metadata": {
        "executionCancelledAt": null,
        "executionTime": 1256,
        "lastExecutedAt": 1702390703677,
        "lastScheduledRunId": null,
        "lastSuccessfullyExecutedCode": "# Let's use pct_change to find the percent change\nfor company in company_list:\n    company['Daily Return'] = company['Adj Close'].pct_change()\n    \n# Plot the daily return %\nfig, axes = plt.subplots(nrows = 2, ncols = 2)\nfig.set_figheight(10)\nfig.set_figwidth(15)\n\nAAPL['Daily Return'].plot(ax = axes[0, 0], legend = True, linestyle = '--', marker = 'o')\naxes[0, 0].set_title('APPLE')\n\nGOOG['Daily Return'].plot(ax = axes[0, 1], legend = True, linestyle = '--', marker = 'o')\naxes[0, 0].set_title('GOOGLE')\n\nMSFT['Daily Return'].plot(ax = axes[1, 0], legend = True, linestyle = '--', marker = 'o')\naxes[0, 0].set_title('MICROSOFT')\n\nAMZN['Daily Return'].plot(ax = axes[1, 1], legend = True, linestyle = '--', marker = 'o')\naxes[0, 0].set_title('AMAZON')\n\nfig.tight_layout()",
        "execution": {
          "iopub.status.busy": "2023-12-14T04:04:22.44026Z",
          "iopub.execute_input": "2023-12-14T04:04:22.441232Z",
          "iopub.status.idle": "2023-12-14T04:04:25.417041Z",
          "shell.execute_reply.started": "2023-12-14T04:04:22.44119Z",
          "shell.execute_reply": "2023-12-14T04:04:25.416057Z"
        },
        "trusted": true,
        "id": "JwF2sl-_EXdy"
      },
      "execution_count": null,
      "outputs": []
    },
    {
      "cell_type": "code",
      "source": [
        "# Take all of the closing prices for the tech stocks into one DataFrame\n",
        "\n",
        "closing_df = pdr.get_data_yahoo(tech_list, start = start, end = end)['Adj Close']\n",
        "\n",
        "# Make a new Dataframe named tech returns\n",
        "tech_rets = closing_df.pct_change()\n",
        "tech_rets.head()"
      ],
      "metadata": {
        "executionCancelledAt": null,
        "executionTime": 132,
        "lastExecutedAt": 1702390704924,
        "lastScheduledRunId": null,
        "lastSuccessfullyExecutedCode": "# Take all of the closing prices for the tech stocks into one DataFrame\n\nclosing_df = pdr.get_data_yahoo(tech_list, start = start, end = end)['Adj Close']\n\n# Make a new Dataframe named tech returns\ntech_rets = closing_df.pct_change()\ntech_rets.head()",
        "outputsMetadata": {
          "0": {
            "height": 37,
            "type": "stream"
          },
          "1": {
            "height": 198,
            "type": "dataFrame"
          }
        },
        "execution": {
          "iopub.status.busy": "2023-12-14T04:04:27.380037Z",
          "iopub.execute_input": "2023-12-14T04:04:27.380661Z",
          "iopub.status.idle": "2023-12-14T04:04:27.591566Z",
          "shell.execute_reply.started": "2023-12-14T04:04:27.380627Z",
          "shell.execute_reply": "2023-12-14T04:04:27.590261Z"
        },
        "trusted": true,
        "id": "KrfFkUJHEXd1"
      },
      "execution_count": null,
      "outputs": []
    },
    {
      "cell_type": "code",
      "source": [
        "# Comparing google to itself should be a perfectly linear correlation\n",
        "sns.jointplot(x = \"GOOG\", y = \"GOOG\", data = tech_rets, kind = \"scatter\", color = \"seagreen\")"
      ],
      "metadata": {
        "executionCancelledAt": null,
        "executionTime": 468,
        "lastExecutedAt": 1702390705392,
        "lastScheduledRunId": null,
        "lastSuccessfullyExecutedCode": "# Comparing google to itself should be a perfectly linear correlation\nsns.jointplot(x = \"GOOG\", y = \"GOOG\", data = tech_rets, kind = \"scatter\", color = \"seagreen\")",
        "execution": {
          "iopub.status.busy": "2023-12-14T04:04:27.592972Z",
          "iopub.execute_input": "2023-12-14T04:04:27.593319Z",
          "iopub.status.idle": "2023-12-14T04:04:29.138634Z",
          "shell.execute_reply.started": "2023-12-14T04:04:27.59329Z",
          "shell.execute_reply": "2023-12-14T04:04:29.137293Z"
        },
        "trusted": true,
        "id": "6XKYCr_pEXd2"
      },
      "execution_count": null,
      "outputs": []
    },
    {
      "cell_type": "code",
      "source": [
        "sns.jointplot(x = \"GOOG\", y = \"MSFT\", data = tech_rets, kind = \"scatter\")"
      ],
      "metadata": {
        "executionCancelledAt": null,
        "executionTime": 446,
        "lastExecutedAt": 1702390705838,
        "lastScheduledRunId": null,
        "lastSuccessfullyExecutedCode": "sns.jointplot(x = \"GOOG\", y = \"MSFT\", data = tech_rets, kind = \"scatter\")",
        "execution": {
          "iopub.status.busy": "2023-12-14T04:04:29.140921Z",
          "iopub.execute_input": "2023-12-14T04:04:29.141445Z",
          "iopub.status.idle": "2023-12-14T04:04:30.093136Z",
          "shell.execute_reply.started": "2023-12-14T04:04:29.141399Z",
          "shell.execute_reply": "2023-12-14T04:04:30.091846Z"
        },
        "trusted": true,
        "id": "_sVMuTe8EXd2"
      },
      "execution_count": null,
      "outputs": []
    },
    {
      "cell_type": "code",
      "source": [
        "sns.pairplot(tech_rets, kind = 'reg')"
      ],
      "metadata": {
        "executionCancelledAt": null,
        "executionTime": 3781,
        "lastExecutedAt": 1702390709619,
        "lastScheduledRunId": null,
        "lastSuccessfullyExecutedCode": "sns.pairplot(tech_rets, kind = 'reg')",
        "execution": {
          "iopub.status.busy": "2023-12-14T04:04:30.095187Z",
          "iopub.execute_input": "2023-12-14T04:04:30.095608Z",
          "iopub.status.idle": "2023-12-14T04:04:38.193372Z",
          "shell.execute_reply.started": "2023-12-14T04:04:30.095576Z",
          "shell.execute_reply": "2023-12-14T04:04:38.192118Z"
        },
        "trusted": true,
        "id": "VkYojjyOEXd3"
      },
      "execution_count": null,
      "outputs": []
    },
    {
      "cell_type": "code",
      "source": [
        "# Setup the figure by naming it returns_fig, and calling PairPlot on it\n",
        "return_fig = sns.PairGrid(tech_rets.dropna())\n",
        "\n",
        "# Let's use map_uper so we can specify the upper triangle\n",
        "return_fig.map_upper(plt.scatter, color = \"purple\")\n",
        "\n",
        "# Use map_lower so we can specifiy the lower triangle\n",
        "return_fig.map_lower(sns.kdeplot, cmap = 'cool_d')\n",
        "\n",
        "#Now let's define the diagonal as histograms\n",
        "return_fig.map_diag(plt.hist, bins = 30)"
      ],
      "metadata": {
        "executionCancelledAt": null,
        "executionTime": 2907,
        "lastExecutedAt": 1702390712526,
        "lastScheduledRunId": null,
        "lastSuccessfullyExecutedCode": "# Setup the figure by naming it returns_fig, and calling PairPlot on it\nreturn_fig = sns.PairGrid(tech_rets.dropna())\n\n# Let's use map_uper so we can specify the upper triangle\nreturn_fig.map_upper(plt.scatter, color = \"purple\")\n\n# Use map_lower so we can specifiy the lower triangle\nreturn_fig.map_lower(sns.kdeplot, cmap = 'cool_d')\n\n#Now let's define the diagonal as histograms\nreturn_fig.map_diag(plt.hist, bins = 30)",
        "execution": {
          "iopub.status.busy": "2023-12-14T04:04:38.19514Z",
          "iopub.execute_input": "2023-12-14T04:04:38.195689Z",
          "iopub.status.idle": "2023-12-14T04:04:45.196824Z",
          "shell.execute_reply.started": "2023-12-14T04:04:38.195654Z",
          "shell.execute_reply": "2023-12-14T04:04:45.195114Z"
        },
        "trusted": true,
        "id": "B_dbKpNYEXd4"
      },
      "execution_count": null,
      "outputs": []
    },
    {
      "cell_type": "code",
      "source": [
        "# Let's setup our figure by naming it return_fig then calling PairPlot on the DataFrame\n",
        "returns_fig = sns.PairGrid(closing_df)\n",
        "\n",
        "# Let's use map_uper so we can specify the upper triangle\n",
        "return_fig.map_upper(plt.scatter, color = \"purple\")\n",
        "\n",
        "# Use map_lower so we can specifiy the lower triangle\n",
        "return_fig.map_lower(sns.kdeplot, cmap = 'cool_d')\n",
        "\n",
        "#Now let's define the diagonal as histograms\n",
        "return_fig.map_diag(plt.hist, bins = 30)"
      ],
      "metadata": {
        "executionCancelledAt": null,
        "executionTime": 3103,
        "lastExecutedAt": 1702390715629,
        "lastScheduledRunId": null,
        "lastSuccessfullyExecutedCode": "# Let's setup our figure by naming it return_fig then calling PairPlot on the DataFrame\nreturns_fig = sns.PairGrid(closing_df)\n\n# Let's use map_uper so we can specify the upper triangle\nreturn_fig.map_upper(plt.scatter, color = \"purple\")\n\n# Use map_lower so we can specifiy the lower triangle\nreturn_fig.map_lower(sns.kdeplot, cmap = 'cool_d')\n\n#Now let's define the diagonal as histograms\nreturn_fig.map_diag(plt.hist, bins = 30)",
        "execution": {
          "iopub.status.busy": "2023-12-14T04:04:45.198369Z",
          "iopub.execute_input": "2023-12-14T04:04:45.198753Z",
          "iopub.status.idle": "2023-12-14T04:04:52.309412Z",
          "shell.execute_reply.started": "2023-12-14T04:04:45.198721Z",
          "shell.execute_reply": "2023-12-14T04:04:52.30848Z"
        },
        "trusted": true,
        "id": "0URZNUWAEXd4"
      },
      "execution_count": null,
      "outputs": []
    },
    {
      "cell_type": "code",
      "source": [
        "plt.figure(figsize = (12, 10))\n",
        "\n",
        "plt.subplot(2, 2, 1)\n",
        "sns.heatmap(tech_rets.corr(), annot = True, cmap = \"summer\")\n",
        "plt.title(\"Correlation of stock return\")\n",
        "\n",
        "plt.subplot(2, 2, 2)\n",
        "sns.heatmap(closing_df.corr(), annot = True, cmap = \"summer\")\n",
        "plt.title(\"Correlation of stock closing price\")"
      ],
      "metadata": {
        "executionCancelledAt": null,
        "executionTime": 501,
        "lastExecutedAt": 1702390716130,
        "lastScheduledRunId": null,
        "lastSuccessfullyExecutedCode": "plt.figure(figsize = (12, 10))\n\nplt.subplot(2, 2, 1)\nsns.heatmap(tech_rets.corr(), annot = True, cmap = \"summer\")\nplt.title(\"Correlation of stock return\")\n\nplt.subplot(2, 2, 2)\nsns.heatmap(closing_df.corr(), annot = True, cmap = \"summer\")\nplt.title(\"Correlation of stock closing price\")",
        "execution": {
          "iopub.status.busy": "2023-12-14T04:04:52.311022Z",
          "iopub.execute_input": "2023-12-14T04:04:52.311699Z",
          "iopub.status.idle": "2023-12-14T04:04:53.331339Z",
          "shell.execute_reply.started": "2023-12-14T04:04:52.311663Z",
          "shell.execute_reply": "2023-12-14T04:04:53.330234Z"
        },
        "trusted": true,
        "id": "g6rUY088EXeD"
      },
      "execution_count": null,
      "outputs": []
    },
    {
      "cell_type": "code",
      "source": [
        "df = pdr.get_data_yahoo('AMZN', start = '2013-01-01', end = datetime.now()) # Fetch data from 2013 to now (10 years)\n",
        "\n",
        "# Let's show the data\n",
        "df\n",
        "\n",
        "# Note: As seen by the analysis above our data sets are pretty clean and we don't need to clean much! This is great"
      ],
      "metadata": {
        "papermill": {
          "duration": 0.050328,
          "end_time": "2022-11-02T04:36:35.048641",
          "exception": false,
          "start_time": "2022-11-02T04:36:34.998313",
          "status": "completed"
        },
        "tags": [],
        "executionCancelledAt": null,
        "executionTime": 298,
        "lastExecutedAt": 1702390716756,
        "lastScheduledRunId": null,
        "lastSuccessfullyExecutedCode": "df = pdr.get_data_yahoo('AAPL', start = '2013-01-01', end = datetime.now()) # Fetch data from 2013 to now (10 years)\n\n# Let's show the data\ndf \n\n# Note: As seen by the analysis above our data sets are pretty clean and we don't need to clean much! This is great",
        "outputsMetadata": {
          "0": {
            "height": 37,
            "type": "stream"
          },
          "1": {
            "height": 323,
            "type": "dataFrame"
          }
        },
        "execution": {
          "iopub.status.busy": "2023-12-14T04:04:54.558524Z",
          "iopub.execute_input": "2023-12-14T04:04:54.558902Z",
          "iopub.status.idle": "2023-12-14T04:04:54.761382Z",
          "shell.execute_reply.started": "2023-12-14T04:04:54.558871Z",
          "shell.execute_reply": "2023-12-14T04:04:54.760223Z"
        },
        "trusted": true,
        "id": "V_g3MBHREXeG"
      },
      "execution_count": null,
      "outputs": []
    },
    {
      "cell_type": "code",
      "source": [
        "plt.figure(figsize = (16, 6))\n",
        "plt.title(\"Close Price History\")\n",
        "plt.plot(df[\"Close\"])\n",
        "plt.xlabel(\"Date\", fontsize = 18)\n",
        "plt.ylabel(\"Close Price USD ($)\", fontsize = 18)\n",
        "plt.show()"
      ],
      "metadata": {
        "papermill": {
          "duration": 0.030293,
          "end_time": "2022-11-02T04:36:35.125512",
          "exception": false,
          "start_time": "2022-11-02T04:36:35.095219",
          "status": "completed"
        },
        "tags": [],
        "executionCancelledAt": null,
        "executionTime": 296,
        "lastExecutedAt": 1702390717052,
        "lastScheduledRunId": null,
        "lastSuccessfullyExecutedCode": "plt.figure(figsize = (16, 6))\nplt.title(\"Close Price History\")\nplt.plot(df[\"Close\"])\nplt.xlabel(\"Date\", fontsize = 18)\nplt.ylabel(\"Close Price USD ($)\", fontsize = 18)\nplt.show()",
        "outputsMetadata": {
          "0": {
            "height": 194,
            "type": "dataFrame"
          }
        },
        "execution": {
          "iopub.status.busy": "2023-12-14T04:04:54.765763Z",
          "iopub.execute_input": "2023-12-14T04:04:54.766155Z",
          "iopub.status.idle": "2023-12-14T04:04:55.452702Z",
          "shell.execute_reply.started": "2023-12-14T04:04:54.766123Z",
          "shell.execute_reply": "2023-12-14T04:04:55.451292Z"
        },
        "trusted": true,
        "id": "9V5IFIvsEXeH"
      },
      "execution_count": null,
      "outputs": []
    },
    {
      "cell_type": "code",
      "source": [
        "# Create new dataframe\n",
        "data = df.filter(['Close'])\n",
        "\n",
        "# Conver to numpy array\n",
        "dataset = data.values\n",
        "\n",
        "# Get NO. of rows to train the model on\n",
        "training_data_len = int(np.ceil(len(dataset) * .95))  # We're using 95% of the data for training\n",
        "\n",
        "print(training_data_len)"
      ],
      "metadata": {
        "executionCancelledAt": null,
        "executionTime": 55,
        "lastExecutedAt": 1702390717107,
        "lastScheduledRunId": null,
        "lastSuccessfullyExecutedCode": "# Create new dataframe\ndata = df.filter(['Close'])\n\n# Conver to numpy array\ndataset = data.values\n\n# Get NO. of rows to train the model on\ntraining_data_len = int(np.ceil(len(dataset) * .95))  # We're using 95% of the data for training\n\nprint(training_data_len)",
        "outputsMetadata": {
          "0": {
            "height": 37,
            "type": "stream"
          }
        },
        "execution": {
          "iopub.status.busy": "2023-12-14T04:04:55.454228Z",
          "iopub.execute_input": "2023-12-14T04:04:55.454621Z",
          "iopub.status.idle": "2023-12-14T04:04:55.462235Z",
          "shell.execute_reply.started": "2023-12-14T04:04:55.454588Z",
          "shell.execute_reply": "2023-12-14T04:04:55.461081Z"
        },
        "trusted": true,
        "id": "ckBOO37LEXeK"
      },
      "execution_count": null,
      "outputs": []
    },
    {
      "cell_type": "code",
      "source": [
        "# Scale data\n",
        "from sklearn.preprocessing import MinMaxScaler\n",
        "\n",
        "scaler = MinMaxScaler(feature_range = (0, 1))\n",
        "scaled_data = scaler.fit_transform(dataset)\n",
        "\n",
        "print(scaled_data)"
      ],
      "metadata": {
        "papermill": {
          "duration": 0.042803,
          "end_time": "2022-11-02T04:36:35.215524",
          "exception": false,
          "start_time": "2022-11-02T04:36:35.172721",
          "status": "completed"
        },
        "tags": [],
        "executionCancelledAt": null,
        "executionTime": 52,
        "lastExecutedAt": 1702390717159,
        "lastScheduledRunId": null,
        "lastSuccessfullyExecutedCode": "# Scale data\nfrom sklearn.preprocessing import MinMaxScaler\n\nscaler = MinMaxScaler(feature_range = (0, 1))\nscaled_data = scaler.fit_transform(dataset)\n\nprint(scaled_data)",
        "outputsMetadata": {
          "0": {
            "height": 157,
            "type": "stream"
          }
        },
        "execution": {
          "iopub.status.busy": "2023-12-14T04:04:55.464281Z",
          "iopub.execute_input": "2023-12-14T04:04:55.464799Z",
          "iopub.status.idle": "2023-12-14T04:04:55.478511Z",
          "shell.execute_reply.started": "2023-12-14T04:04:55.464756Z",
          "shell.execute_reply": "2023-12-14T04:04:55.477098Z"
        },
        "trusted": true,
        "id": "V46bdq7VEXeL"
      },
      "execution_count": null,
      "outputs": []
    },
    {
      "cell_type": "code",
      "source": [
        "# Here we cut the data into the 95% And put it in a \"train data\" array\n",
        "train_data = scaled_data[0:int(training_data_len), :]\n",
        "\n",
        "# Split into x_train and y_train\n",
        "x_train = []\n",
        "y_train = []\n",
        "\n",
        "# Isolate the \"x_train\" which is input data and \"y_train\" which is the output/target data.\n",
        "for i in range (60, len(train_data)):\n",
        "    x_train.append(train_data[i-60:i, 0])\n",
        "    y_train.append(train_data[i, 0])\n",
        "    if i<= 61: # prevent overflow\n",
        "        print(x_train)\n",
        "        print(y_train)\n",
        "\n",
        "# Convert into np arrays to allow for more manipulation of the dataset\n",
        "x_train = np.array(x_train)\n",
        "y_train = np.array(y_train)\n",
        "\n",
        "# Reshape data\n",
        "x_train = np.reshape(x_train, (x_train.shape[0], x_train.shape[1], 1))"
      ],
      "metadata": {
        "executionCancelledAt": null,
        "executionTime": 52,
        "lastExecutedAt": 1702390717211,
        "lastScheduledRunId": null,
        "lastSuccessfullyExecutedCode": "# Here we cut the data into the 95% And put it in a \"train data\" array\ntrain_data = scaled_data[0:int(training_data_len), :]\n\n# Split into x_train and y_train\nx_train = []\ny_train = []\n\n# Isolate the \"x_train\" which is input data and \"y_train\" which is the output/target data. \nfor i in range (60, len(train_data)):\n    x_train.append(train_data[i-60:i, 0])\n    y_train.append(train_data[i, 0])\n    if i<= 61: # prevent overflow\n        print(x_train)\n        print(y_train)\n\n# Convert into np arrays to allow for more manipulation of the dataset\nx_train = np.array(x_train)\ny_train = np.array(y_train)\n\n# Reshape data\nx_train = np.reshape(x_train, (x_train.shape[0], x_train.shape[1], 1)) # Reshape data so it's formatted correct and can be used for training.\nprint(x_train.shape) # Testing (ignore)",
        "outputsMetadata": {
          "0": {
            "height": 616,
            "type": "stream"
          }
        },
        "execution": {
          "iopub.status.busy": "2023-12-14T04:04:55.481113Z",
          "iopub.execute_input": "2023-12-14T04:04:55.48172Z",
          "iopub.status.idle": "2023-12-14T04:04:55.502606Z",
          "shell.execute_reply.started": "2023-12-14T04:04:55.481675Z",
          "shell.execute_reply": "2023-12-14T04:04:55.501078Z"
        },
        "trusted": true,
        "id": "kZAyGLg4EXeM"
      },
      "execution_count": null,
      "outputs": []
    },
    {
      "cell_type": "code",
      "source": [
        "test_data = scaled_data[training_data_len - 60:, :]\n",
        "\n",
        "x_test = []\n",
        "y_test = dataset[training_data_len: ,:]\n",
        "for i in range(60, len(test_data)):\n",
        "    x_test.append(test_data[i-60:i, 0])\n",
        "\n",
        "x_test = np.array(x_test)\n",
        "\n",
        "x_test = np.reshape(x_test, (x_test.shape[0], x_test.shape[1], 1))"
      ],
      "metadata": {
        "executionCancelledAt": null,
        "executionTime": 47,
        "lastExecutedAt": 1702390717258,
        "lastScheduledRunId": null,
        "lastSuccessfullyExecutedCode": "test_data = scaled_data[training_data_len - 60:, :] # Get the test data from the last 0.5% of the scaled data sets\n\n# Create x_test and y_test\n# \"x_test\" is the data we want to test the model on, \"y_test\" is the actual result of the data. \nx_test = []\ny_test = dataset[training_data_len: ,:]\nfor i in range(60, len(test_data)):\n    x_test.append(test_data[i-60:i, 0])\n    \n# Convert data to np array\nx_test = np.array(x_test)\n\n# Reshape\nx_test = np.reshape(x_test, (x_test.shape[0], x_test.shape[1], 1))",
        "execution": {
          "iopub.status.busy": "2023-12-14T04:04:55.505448Z",
          "iopub.execute_input": "2023-12-14T04:04:55.505963Z",
          "iopub.status.idle": "2023-12-14T04:04:55.516471Z",
          "shell.execute_reply.started": "2023-12-14T04:04:55.505919Z",
          "shell.execute_reply": "2023-12-14T04:04:55.515576Z"
        },
        "trusted": true,
        "id": "gKyAOTacEXeN"
      },
      "execution_count": null,
      "outputs": []
    },
    {
      "cell_type": "code",
      "source": [
        "from keras.models import Sequential\n",
        "from keras.layers import Dense, LSTM\n",
        "\n",
        "if 'model' in globals():\n",
        "    del model\n",
        "\n",
        "model = Sequential()\n",
        "\n",
        "model.add(LSTM(128, return_sequences = True, input_shape = (x_train.shape[1], 1)))\n",
        "model.add(LSTM(64, return_sequences = False))\n",
        "model.add(Dense(25))\n",
        "model.add(Dense(1))\n",
        "\n",
        "model.compile(optimizer = \"adam\", loss = \"mean_squared_error\")\n",
        "\n",
        "model.fit(x_train, y_train, batch_size = 1, epochs = 1)\n"
      ],
      "metadata": {
        "executionCancelledAt": null,
        "executionTime": 37892,
        "lastExecutedAt": 1702391540280,
        "lastScheduledRunId": null,
        "lastSuccessfullyExecutedCode": "from keras.models import Sequential\nfrom keras.layers import Dense, LSTM \n# Import libaries requred\ndel model\n# Build model\nmodel = Sequential()\n# The model is a sequential model, meaning the dataset goes from a layer of the neural network to another.\n\n# Adding layers\nmodel.add(LSTM(128, return_sequences = True, input_shape = (x_train.shape[1], 1)))\n# Adding our first LSTM layer\nmodel.add(LSTM(64, return_sequences = False))\n# Adding second LSTM layer\nmodel.add(Dense(25))\n# Adding dense layer (Dense layers are basically a crap ton of neurons and can help with idnetifiying patterns)\nmodel.add(Dense(1))\n\n# Compile model\nmodel.compile(optimizer = \"adam\", loss = \"mean_squared_error\")\n# This is where backwards probagation. I'm using the loss function of MSE which is used to compare target and predicted values and the adam optimiser to preform gradient decent which is used for backwards propagation. See the links above for a better explaination.\n\n# Train model\nmodel.fit(x_train, y_train, batch_size = 1, epochs = 1)\n# 1 Batch, 1 Epoch (1 Pass of the dataset)",
        "outputsMetadata": {
          "0": {
            "height": 37,
            "type": "stream"
          },
          "1": {
            "height": 37,
            "type": "stream"
          }
        },
        "execution": {
          "iopub.status.busy": "2023-12-14T04:04:55.517496Z",
          "iopub.execute_input": "2023-12-14T04:04:55.517822Z",
          "iopub.status.idle": "2023-12-14T04:06:18.413369Z",
          "shell.execute_reply.started": "2023-12-14T04:04:55.517794Z",
          "shell.execute_reply": "2023-12-14T04:06:18.412472Z"
        },
        "trusted": true,
        "id": "_CACEp7AEXeP"
      },
      "execution_count": null,
      "outputs": []
    },
    {
      "cell_type": "code",
      "source": [
        "# We're using the model we trained above and testing it on our test data we made above\n",
        "predictions = model.predict(x_test)\n",
        "predictions = scaler.inverse_transform(predictions) # Scaler transofmations so we can plot\n",
        "\n",
        "rmse = np.sqrt(np.mean((predictions - y_test) ** 2)) # We calculated the RMSE using the formula\n",
        "\n",
        "print(rmse)"
      ],
      "metadata": {
        "executionCancelledAt": null,
        "executionTime": 601,
        "lastExecutedAt": 1702391545382,
        "lastScheduledRunId": null,
        "lastSuccessfullyExecutedCode": "# We're using the model we trained above and testing it on our test data we made above\npredictions = model.predict(x_test)\npredictions = scaler.inverse_transform(predictions) # Scaler transofmations so we can plot\n\nrmse = np.sqrt(np.mean((predictions - y_test) ** 2)) # We calculated the RMSE using the formula \n\nprint(rmse)",
        "outputsMetadata": {
          "0": {
            "height": 57,
            "type": "stream"
          }
        },
        "execution": {
          "iopub.status.busy": "2023-12-14T04:06:18.414621Z",
          "iopub.execute_input": "2023-12-14T04:06:18.415463Z",
          "iopub.status.idle": "2023-12-14T04:06:19.612421Z",
          "shell.execute_reply.started": "2023-12-14T04:06:18.415426Z",
          "shell.execute_reply": "2023-12-14T04:06:19.611174Z"
        },
        "trusted": true,
        "id": "FKtFe7lfEXeQ"
      },
      "execution_count": null,
      "outputs": []
    },
    {
      "cell_type": "code",
      "source": [
        "train = data[:training_data_len]\n",
        "valid = data[training_data_len:]\n",
        "valid['Predictions'] = predictions\n",
        "\n",
        "# visualize data\n",
        "plt.figure(figsize = (16, 6))\n",
        "plt.title(\"Model\")\n",
        "plt.xlabel(\"Date\", fontsize = 18)\n",
        "plt.ylabel('Close Price USD ($)', fontsize = 18)\n",
        "\n",
        "plt.plot(train['Close'])\n",
        "plt.plot(valid[[\"Close\", \"Predictions\"]])\n",
        "plt.legend([\"Train\", \"Val\", \"Predictions\"], loc = \"lower right\")\n",
        "plt.show()"
      ],
      "metadata": {
        "executionCancelledAt": null,
        "executionTime": 319,
        "lastExecutedAt": 1702390755945,
        "lastScheduledRunId": null,
        "lastSuccessfullyExecutedCode": "train = data[:training_data_len]\nvalid = data[training_data_len:]\nvalid['Predictions'] = predictions\n\n# visualize data\nplt.figure(figsize = (16, 6))\nplt.title(\"Model\")\nplt.xlabel(\"Date\", fontsize = 18)\nplt.ylabel('Close Price USD ($)', fontsize = 18)\n\nplt.plot(train['Close'])\nplt.plot(valid[[\"Close\", \"Predictions\"]])\nplt.legend([\"Train\", \"Val\", \"Predictions\"], loc = \"lower right\")\nplt.show()",
        "execution": {
          "iopub.status.busy": "2023-12-14T04:06:19.614024Z",
          "iopub.execute_input": "2023-12-14T04:06:19.614506Z",
          "iopub.status.idle": "2023-12-14T04:06:20.369282Z",
          "shell.execute_reply.started": "2023-12-14T04:06:19.614467Z",
          "shell.execute_reply": "2023-12-14T04:06:20.3681Z"
        },
        "trusted": true,
        "id": "TS3lqTEQEXeR"
      },
      "execution_count": null,
      "outputs": []
    }
  ]
}